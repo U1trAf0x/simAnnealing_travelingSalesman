{
  "nbformat": 4,
  "nbformat_minor": 0,
  "metadata": {
    "colab": {
      "name": "simAnnealing.ipynb",
      "provenance": [],
      "authorship_tag": "ABX9TyOVbS/g5OHnozTf7eIg8ofO",
      "include_colab_link": true
    },
    "kernelspec": {
      "name": "python3",
      "display_name": "Python 3"
    }
  },
  "cells": [
    {
      "cell_type": "markdown",
      "metadata": {
        "id": "view-in-github",
        "colab_type": "text"
      },
      "source": [
        "<a href=\"https://colab.research.google.com/github/U1trAf0x/simAnnealing_travelingSalesman/blob/main/simAnnealing.ipynb\" target=\"_parent\"><img src=\"https://colab.research.google.com/assets/colab-badge.svg\" alt=\"Open In Colab\"/></a>"
      ]
    },
    {
      "cell_type": "code",
      "metadata": {
        "id": "9CBBeXhRpJnF"
      },
      "source": [
        "%matplotlib inline\n",
        "import matplotlib.pyplot as plt\n",
        "\n",
        "import torch\n",
        "import random\n",
        "import numpy as np"
      ],
      "execution_count": 15,
      "outputs": []
    },
    {
      "cell_type": "code",
      "metadata": {
        "id": "eDPrT8xWrlA4"
      },
      "source": [
        "data = np.array([[0, 2451, 713, 1018, 1631, 1374, 2408, 213, 2571, 875, 1420, 2145, 1972],\n",
        "        [2451, 0, 1745, 1524, 831, 1240, 959, 2596, 403, 1589, 1374, 357, 579],\n",
        "        [713, 1745, 0, 355, 920, 803, 1737, 851, 1858, 262, 940, 1453, 1260],\n",
        "        [1018, 1524, 355, 0, 700, 862, 1395, 1123, 1584, 466, 1056, 1280, 987],\n",
        "        [1631, 831, 920, 700, 0, 663, 1021, 1769, 949, 796, 879, 586, 371],\n",
        "        [1374, 1240, 803, 862, 663, 0, 1681, 1551, 1765, 547, 225, 887, 999],\n",
        "        [2408, 959, 1737, 1395, 1021, 1681, 0, 2493, 678, 1724, 1891, 1114, 701],\n",
        "        [213, 2596, 851, 1123, 1769, 1551, 2493, 0, 2699, 1038, 1605, 2300, 2099],\n",
        "        [2571, 403, 1858, 1584, 949, 1765, 678, 2699, 0, 1744, 1645, 653, 600],\n",
        "        [875, 1589, 262, 466, 796, 547, 1724, 1038, 1744, 0, 679, 1272, 1162],\n",
        "        [1420, 1374, 940, 1056, 879, 225, 1891, 1605, 1645, 679, 0, 1017, 1200],\n",
        "        [2145, 357, 1453, 1280, 586, 887, 1114, 2300, 653, 1272, 1017, 0, 504],\n",
        "        [1972, 579, 1260, 987, 371, 999, 701, 2099, 600, 1162, 1200, 504, 0],], np.int32)"
      ],
      "execution_count": 16,
      "outputs": []
    },
    {
      "cell_type": "code",
      "metadata": {
        "id": "tyd5sJ52sxo5"
      },
      "source": [
        "cities = ['New York', 'Los Angeles', 'Chicago', 'Minneapolis', 'Denver',\n",
        "          'Dallas', 'Seattle', 'Boston', 'San Francisco', 'St. Louis',\n",
        "          'Houston', 'Phoenix', 'Salt Lake City']\n",
        "cityInd = [0, 1, 2, 3, 4, 5, 6, 7, 8, 9, 10, 11, 12]"
      ],
      "execution_count": 17,
      "outputs": []
    },
    {
      "cell_type": "code",
      "metadata": {
        "id": "5g7n8tNOuzw-"
      },
      "source": [
        "def getDist(start, end):\n",
        "  print(\"ditance from \" + cities[start] + \" to \" + cities[end] + \" is\", data[start][end])"
      ],
      "execution_count": 20,
      "outputs": []
    },
    {
      "cell_type": "code",
      "metadata": {
        "id": "75sedneeu9yP"
      },
      "source": [
        "path = [0, 1, 2, 3, 4, 5, 6, 7, 8, 9, 10, 11, 12]\n",
        "cost_prev = float('inf')\n"
      ],
      "execution_count": 8,
      "outputs": []
    },
    {
      "cell_type": "code",
      "metadata": {
        "id": "UoYHJTQ9bS8R"
      },
      "source": [
        "def evalFunc(path):\n",
        "  result = 0\n",
        "  for i in range(0, 12):\n",
        "    result += data[path[i]][path[i + 1]]\n",
        "    getDist(i, i + 1)   \n",
        "  result += data[path[12]][path[0]]\n",
        "  getDist(12, 0)\n",
        "  return result"
      ],
      "execution_count": 21,
      "outputs": []
    },
    {
      "cell_type": "code",
      "metadata": {
        "id": "JcyIFl9ycR4y",
        "outputId": "827e6013-c4b7-4235-cc78-6c39abc22983",
        "colab": {
          "base_uri": "https://localhost:8080/"
        }
      },
      "source": [
        "evalFunc(path)"
      ],
      "execution_count": 22,
      "outputs": [
        {
          "output_type": "stream",
          "text": [
            "ditance from New York to Los Angeles is 2451\n",
            "ditance from Los Angeles to Chicago is 1745\n",
            "ditance from Chicago to Minneapolis is 355\n",
            "ditance from Minneapolis to Denver is 700\n",
            "ditance from Denver to Dallas is 663\n",
            "ditance from Dallas to Seattle is 1681\n",
            "ditance from Seattle to Boston is 2493\n",
            "ditance from Boston to San Francisco is 2699\n",
            "ditance from San Francisco to St. Louis is 1744\n",
            "ditance from St. Louis to Houston is 679\n",
            "ditance from Houston to Phoenix is 1017\n",
            "ditance from Phoenix to Salt Lake City is 504\n",
            "ditance from Salt Lake City to New York is 1972\n"
          ],
          "name": "stdout"
        },
        {
          "output_type": "execute_result",
          "data": {
            "text/plain": [
              "18703"
            ]
          },
          "metadata": {
            "tags": []
          },
          "execution_count": 22
        }
      ]
    },
    {
      "cell_type": "code",
      "metadata": {
        "id": "3bHMP4i0cci3"
      },
      "source": [
        "maxIter = 500\n",
        "tempEnd = 100\n",
        "def randP():\n",
        "  return random.randrange(0, tempEnd)\n",
        "coolRate = 0.9\n",
        "iter = 0\n",
        "path = [0, 1, 2, 3, 4, 5, 6, 7, 8, 9, 10, 11, 12]\n",
        "cost_prev = float('inf')"
      ],
      "execution_count": 30,
      "outputs": []
    },
    {
      "cell_type": "code",
      "metadata": {
        "id": "K0_xG8Xqe6LM",
        "outputId": "8c619393-5c61-4c00-b5e4-e81d6add1199",
        "colab": {
          "base_uri": "https://localhost:8080/",
          "height": 129
        }
      },
      "source": [
        "for i in range(0, maxIter):\n",
        "  # generate random indexes for swap\n",
        "  ind1 = random.randrange(1, 13)\n",
        "  ind2 = random.randrange(1, 13)\n",
        "\n",
        "  # swap two cities in path according to generated indexes\n",
        "  temp = path[ind1]\n",
        "  path[ind1] = path[ind2]\n",
        "  path[ind2] = temp\n",
        "  cost_new = evalFunc(path)\n",
        "  if (cost_new < cost_prev):\n",
        "    flex = 1\n",
        "  else:\n",
        "    p0 = randP()\n",
        "    delta = cost_new - cost_prev\n",
        "    p = exp(-delta/tempEnd)\n",
        "    if (p0/tempEnd < p):\n",
        "      flex = 1\n",
        "    else:\n",
        "      # swap back\n"
      ],
      "execution_count": 31,
      "outputs": [
        {
          "output_type": "error",
          "ename": "SyntaxError",
          "evalue": "ignored",
          "traceback": [
            "\u001b[0;36m  File \u001b[0;32m\"<ipython-input-31-d5f54f7f575e>\"\u001b[0;36m, line \u001b[0;32m20\u001b[0m\n\u001b[0;31m    # swap back\u001b[0m\n\u001b[0m               ^\u001b[0m\n\u001b[0;31mSyntaxError\u001b[0m\u001b[0;31m:\u001b[0m unexpected EOF while parsing\n"
          ]
        }
      ]
    },
    {
      "cell_type": "code",
      "metadata": {
        "id": "MY7INWzjjzYA"
      },
      "source": [
        ""
      ],
      "execution_count": null,
      "outputs": []
    }
  ]
}