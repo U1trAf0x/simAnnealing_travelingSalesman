{
  "nbformat": 4,
  "nbformat_minor": 0,
  "metadata": {
    "colab": {
      "name": "simAnnealing.ipynb",
      "provenance": [],
      "authorship_tag": "ABX9TyOlXUu/V1xrX2ihGb3fGbM+",
      "include_colab_link": true
    },
    "kernelspec": {
      "name": "python3",
      "display_name": "Python 3"
    }
  },
  "cells": [
    {
      "cell_type": "markdown",
      "metadata": {
        "id": "view-in-github",
        "colab_type": "text"
      },
      "source": [
        "<a href=\"https://colab.research.google.com/github/U1trAf0x/simAnnealing_travelingSalesman/blob/main/simAnnealing.ipynb\" target=\"_parent\"><img src=\"https://colab.research.google.com/assets/colab-badge.svg\" alt=\"Open In Colab\"/></a>"
      ]
    },
    {
      "cell_type": "code",
      "metadata": {
        "id": "9CBBeXhRpJnF"
      },
      "source": [
        "%matplotlib inline\n",
        "import matplotlib.pyplot as plt\n",
        "\n",
        "import random\n",
        "import numpy as np\n",
        "import scipy\n",
        "import scipy.constants as const"
      ],
      "execution_count": 105,
      "outputs": []
    },
    {
      "cell_type": "code",
      "metadata": {
        "id": "eDPrT8xWrlA4"
      },
      "source": [
        "data = np.array([[0, 2451, 713, 1018, 1631, 1374, 2408, 213, 2571, 875, 1420, 2145, 1972],\n",
        "        [2451, 0, 1745, 1524, 831, 1240, 959, 2596, 403, 1589, 1374, 357, 579],\n",
        "        [713, 1745, 0, 355, 920, 803, 1737, 851, 1858, 262, 940, 1453, 1260],\n",
        "        [1018, 1524, 355, 0, 700, 862, 1395, 1123, 1584, 466, 1056, 1280, 987],\n",
        "        [1631, 831, 920, 700, 0, 663, 1021, 1769, 949, 796, 879, 586, 371],\n",
        "        [1374, 1240, 803, 862, 663, 0, 1681, 1551, 1765, 547, 225, 887, 999],\n",
        "        [2408, 959, 1737, 1395, 1021, 1681, 0, 2493, 678, 1724, 1891, 1114, 701],\n",
        "        [213, 2596, 851, 1123, 1769, 1551, 2493, 0, 2699, 1038, 1605, 2300, 2099],\n",
        "        [2571, 403, 1858, 1584, 949, 1765, 678, 2699, 0, 1744, 1645, 653, 600],\n",
        "        [875, 1589, 262, 466, 796, 547, 1724, 1038, 1744, 0, 679, 1272, 1162],\n",
        "        [1420, 1374, 940, 1056, 879, 225, 1891, 1605, 1645, 679, 0, 1017, 1200],\n",
        "        [2145, 357, 1453, 1280, 586, 887, 1114, 2300, 653, 1272, 1017, 0, 504],\n",
        "        [1972, 579, 1260, 987, 371, 999, 701, 2099, 600, 1162, 1200, 504, 0],], np.int32)"
      ],
      "execution_count": 106,
      "outputs": []
    },
    {
      "cell_type": "code",
      "metadata": {
        "id": "tyd5sJ52sxo5"
      },
      "source": [
        "cities = ['New York', 'Los Angeles', 'Chicago', 'Minneapolis', 'Denver',\n",
        "          'Dallas', 'Seattle', 'Boston', 'San Francisco', 'St. Louis',\n",
        "          'Houston', 'Phoenix', 'Salt Lake City']\n",
        "cityInd = [0, 1, 2, 3, 4, 5, 6, 7, 8, 9, 10, 11, 12]"
      ],
      "execution_count": 107,
      "outputs": []
    },
    {
      "cell_type": "code",
      "metadata": {
        "id": "UoYHJTQ9bS8R"
      },
      "source": [
        "def evalFunc(path):\n",
        "  result = 0\n",
        "\n",
        "  for i in range(0, 12):\n",
        "    result += data[path[i]][path[i + 1]]\n",
        "\n",
        "  result += data[path[12]][path[0]]\n",
        "  return result"
      ],
      "execution_count": 108,
      "outputs": []
    },
    {
      "cell_type": "code",
      "metadata": {
        "id": "t2vghLQAQduN"
      },
      "source": [
        "def genNewPath(path):\n",
        "  # generate random indexes for swap\n",
        "  ind1 = random.randrange(1, 13)\n",
        "  ind2 = random.randrange(1, 13)\n",
        "\n",
        "  # swap two cities in path according to generated indexes\n",
        "  new_path = path.copy()\n",
        "  tmp = new_path[ind1]\n",
        "  new_path[ind1] = new_path[ind2]\n",
        "  new_path[ind2] = tmp\n",
        "\n",
        "  return new_path"
      ],
      "execution_count": 109,
      "outputs": []
    },
    {
      "cell_type": "code",
      "metadata": {
        "id": "K0_xG8Xqe6LM",
        "outputId": "c95b8a70-a1a6-4f5e-91d5-060594bf8d56",
        "colab": {
          "base_uri": "https://localhost:8080/"
        }
      },
      "source": [
        "cur_temp = 100\n",
        "cool_rate = 0.9\n",
        "path = [0, 1, 2, 3, 4, 5, 6, 7, 8, 9, 10, 11, 12]\n",
        "cost_prev = float('inf')\n",
        "cost_new = 0\n",
        "\n",
        "print(\"Before: \", evalFunc(path), '.', sep = '')\n",
        "\n",
        "for i in range(0, 1000):\n",
        "  # get new path\n",
        "  new_path = genNewPath(path)\n",
        "\n",
        "  # get new cost and delta\n",
        "  cost_new = evalFunc(new_path)\n",
        "  delta = cost_new - cost_prev\n",
        "\n",
        "  # make a decision\n",
        "  if (delta < 0):\n",
        "    # accept new path\n",
        "    path = new_path\n",
        "    cost_prev = cost_new\n",
        "  else:\n",
        "    # generate random p\n",
        "    p_rand = random.uniform(0.0, 1.0)\n",
        "\n",
        "    # get another p with exp \n",
        "    p_exp = np.exp(-delta/(cur_temp * const.Boltzmann))\n",
        "\n",
        "    # make a decision\n",
        "    if (p_rand < p_exp):\n",
        "      # accept new path\n",
        "      path = new_path\n",
        "      cost_prev = cost_new\n",
        "\n",
        "  cur_temp *= cool_rate\n",
        "\n",
        "print(\"After: \", cost_new, '.', sep = '')"
      ],
      "execution_count": 122,
      "outputs": [
        {
          "output_type": "stream",
          "text": [
            "Before: 18703.\n",
            "After: 13246.\n"
          ],
          "name": "stdout"
        }
      ]
    },
    {
      "cell_type": "code",
      "metadata": {
        "id": "MY7INWzjjzYA"
      },
      "source": [
        ""
      ],
      "execution_count": 110,
      "outputs": []
    }
  ]
}